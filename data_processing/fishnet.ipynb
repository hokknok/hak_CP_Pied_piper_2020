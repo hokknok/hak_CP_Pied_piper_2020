{
  "nbformat": 4,
  "nbformat_minor": 0,
  "metadata": {
    "colab": {
      "name": "fishnet.ipynb",
      "provenance": [],
      "collapsed_sections": []
    },
    "kernelspec": {
      "name": "python3",
      "display_name": "Python 3"
    }
  },
  "cells": [
    {
      "cell_type": "code",
      "metadata": {
        "id": "YFJMYnVbP-kF"
      },
      "source": [
        "from google.colab import drive\n",
        "drive.mount('/content/gdrive')"
      ],
      "execution_count": null,
      "outputs": []
    },
    {
      "cell_type": "code",
      "metadata": {
        "id": "fLw6_WnNQENG"
      },
      "source": [
        "import pandas as pd\n",
        "import numpy as np"
      ],
      "execution_count": null,
      "outputs": []
    },
    {
      "cell_type": "code",
      "metadata": {
        "id": "afupDZRdQEo0"
      },
      "source": [
        "#clear from non-Moscow objects\n",
        "\n",
        "#Moscow shape:\n",
        "#lat: 55.582238 .. 55.905471\n",
        "#lon: 37.372692 .. 37.851569\n",
        "#38 х 33 км\n",
        "\n",
        "fishnet_df = pd.read_csv(\"fishnet.csv\")\n",
        "fishnet_df.columns = [\"lon\", \"lat\", \"cell_id\", \"cell_area\", \"cell_area2\"]\n",
        "fishnet_df = fishnet_df[[\"lon\", \"lat\", \"cell_id\"]]\n",
        "fishnet_msc_df = fishnet_df[(fishnet_df[\"lat\"]>55.582238) & (fishnet_df[\"lat\"]<55.905471) & (fishnet_df[\"lon\"]>37.372692) & (fishnet_df[\"lon\"]<37.851569)]\n",
        "fishnet_msc_df"
      ],
      "execution_count": null,
      "outputs": []
    },
    {
      "cell_type": "code",
      "metadata": {
        "id": "QQRIakKUQGzW"
      },
      "source": [
        "msc_id = fishnet_msc_df.cell_id.unique().tolist()"
      ],
      "execution_count": null,
      "outputs": []
    },
    {
      "cell_type": "code",
      "metadata": {
        "id": "_D10zWsWQJ-i"
      },
      "source": [
        "#read Big File №1\n",
        "\n",
        "dfs = []\n",
        "for chunk in pd.read_csv(\"gdrive/My Drive/02_CDensity_1_201903.csv\", sep=\";\", chunksize=100000):\n",
        "  dfs.append(chunk.loc[chunk['zid'].isin(msc_id)])"
      ],
      "execution_count": null,
      "outputs": []
    },
    {
      "cell_type": "code",
      "metadata": {
        "id": "PiDRWcdRQMio"
      },
      "source": [
        "df_part1 = pd.concat(dfs)\n",
        "df_part1[\"ts\"] = df_part1.ts.apply(lambda x: x.split()[0])\n",
        "df_part1 = df_part1.groupby([\"ts\", \"zid\"]).sum().reset_index().merge(fishnet_msc_df, how=\"left\", left_on=\"zid\", right_on=\"cell_id\")\n",
        "df_part1.columns = [\"ts\", \"zid\", \"customers_cnt_total_sum\", \"customers_cnt_long_sum\", \"customers_cnt_work_sum\", \"customers_cnt_loc_sum\", \"lon\", \"lat\", \"cell_id\"]\n",
        "df_part1 = df_part1[[\"ts\", \"zid\", \"customers_cnt_total_sum\", \"customers_cnt_long_sum\", \"customers_cnt_work_sum\", \"customers_cnt_loc_sum\", \"lon\", \"lat\"]]\n",
        "df_part1[\"ts\"] = pd.to_datetime(df_part1['ts'], format=\"%m.%d\").apply(lambda dt: dt.replace(year=2020))\n",
        "df_part1"
      ],
      "execution_count": null,
      "outputs": []
    },
    {
      "cell_type": "code",
      "metadata": {
        "id": "w6l31qNIQOaa"
      },
      "source": [
        "#read Big File №2\n",
        "\n",
        "dfs = []\n",
        "for chunk in pd.read_csv(\"gdrive/My Drive/02_CDensity_1_201904.csv\", sep=\";\", chunksize=100000):\n",
        "  dfs.append(chunk.loc[chunk['zid'].isin(msc_id)])"
      ],
      "execution_count": null,
      "outputs": []
    },
    {
      "cell_type": "code",
      "metadata": {
        "id": "J0wtwOv5QRZT"
      },
      "source": [
        "df_part2 = pd.concat(dfs)\n",
        "df_part2[\"ts\"] = df_part2.ts.apply(lambda x: x.split()[0])\n",
        "df_part2 = df_part2.groupby([\"ts\", \"zid\"]).sum().reset_index().merge(fishnet_msc_df, how=\"left\", left_on=\"zid\", right_on=\"cell_id\")\n",
        "df_part2.columns = [\"ts\", \"zid\", \"customers_cnt_total_sum\", \"customers_cnt_long_sum\", \"customers_cnt_work_sum\", \"customers_cnt_loc_sum\", \"lon\", \"lat\", \"cell_id\"]\n",
        "df_part2 = df_part2[[\"ts\", \"zid\", \"customers_cnt_total_sum\", \"customers_cnt_long_sum\", \"customers_cnt_work_sum\", \"customers_cnt_loc_sum\", \"lon\", \"lat\"]]\n",
        "df_part2[\"ts\"] = pd.to_datetime(df_part2['ts'], format=\"%m.%d\").apply(lambda dt: dt.replace(year=2020))\n",
        "df_part2"
      ],
      "execution_count": null,
      "outputs": []
    },
    {
      "cell_type": "code",
      "metadata": {
        "id": "bu0N0ickQigr"
      },
      "source": [
        "pd.concat([df_part1, df_part2]).to_csv(\"DIT_DATA_AGGRS.csv\", index=False)"
      ],
      "execution_count": null,
      "outputs": []
    }
  ]
}