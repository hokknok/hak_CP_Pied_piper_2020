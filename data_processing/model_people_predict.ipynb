{
  "nbformat": 4,
  "nbformat_minor": 0,
  "metadata": {
    "colab": {
      "name": "model_people_predict.ipynb",
      "provenance": []
    },
    "kernelspec": {
      "name": "python3",
      "display_name": "Python 3"
    }
  },
  "cells": [
    {
      "cell_type": "code",
      "metadata": {
        "id": "XNgQJa3dmuzF"
      },
      "source": [
        "#!pip install flask_ngrok\n",
        "import pandas as pd\n",
        "import pandas as pd\n",
        "from flask_ngrok import run_with_ngrok\n",
        "from flask import Flask, jsonify\n",
        "import flask\n",
        "from sklearn.ensemble import RandomForestRegressor"
      ],
      "execution_count": 33,
      "outputs": []
    },
    {
      "cell_type": "code",
      "metadata": {
        "id": "BCU4TOj2rK7Z"
      },
      "source": [
        "df = pd.read_csv(\"DIT_DATA_AGGRS.csv\")\n",
        "df[\"year\"] = df.ts.apply(lambda x: x[:4])\n",
        "df[\"month\"] = df.ts.apply(lambda x: int(x[5:7]))\n",
        "df[\"day\"] = df.ts.apply(lambda x: int(x[8:10]))\n",
        "df = df.drop(\"ts\", axis=1)\n",
        "df.to_csv(\"DIT_DATA_AGGRS.csv\", index=False)"
      ],
      "execution_count": 24,
      "outputs": []
    },
    {
      "cell_type": "code",
      "metadata": {
        "id": "09IE5EYBwdpw"
      },
      "source": [
        "app = Flask(__name__)\n",
        "run_with_ngrok(app)\n",
        "@app.route(\"/\")\n",
        "def home():\n",
        "\n",
        "    try:\n",
        "      df = pd.read_csv(\"DIT_DATA_AGGRS.csv\")\n",
        "      df = df[df[\"zid\"]==int(flask.request.args.get(\"zid\"))].sample(50)\n",
        "\n",
        "      regr = RandomForestRegressor(max_depth=2)\n",
        "      regr.fit(df.drop(\"customers_cnt_total_sum\", axis=1), df[\"customers_cnt_total_sum\"])\n",
        "      customers_cnt_total_sum = regr.predict(df.sample(1).drop(\"customers_cnt_total_sum\", axis=1).to_numpy())[0]\n",
        "\n",
        "      regr = RandomForestRegressor(max_depth=2)\n",
        "      regr.fit(df.drop(\"customers_cnt_long_sum\", axis=1), df[\"customers_cnt_long_sum\"])\n",
        "      customers_cnt_long_sum = regr.predict(df.sample(1).drop(\"customers_cnt_long_sum\", axis=1).to_numpy())[0]\n",
        "\n",
        "      regr = RandomForestRegressor(max_depth=2)\n",
        "      regr.fit(df.drop(\"customers_cnt_work_sum\", axis=1), df[\"customers_cnt_work_sum\"])\n",
        "      customers_cnt_work_sum = regr.predict(df.sample(1).drop(\"customers_cnt_work_sum\", axis=1).to_numpy())[0]\n",
        "\n",
        "      regr = RandomForestRegressor(max_depth=2)\n",
        "      regr.fit(df.drop(\"customers_cnt_loc_sum\", axis=1), df[\"customers_cnt_loc_sum\"])\n",
        "      customers_cnt_loc_sum = regr.predict(df.sample(1).drop(\"customers_cnt_loc_sum\", axis=1).to_numpy())[0]\n",
        "\n",
        "      return jsonify({\"customers_cnt_loc_sum\": round(customers_cnt_loc_sum), \n",
        "                    \"customers_cnt_work_sum\": round(customers_cnt_work_sum), \n",
        "                    \"customers_cnt_long_sum\": round(customers_cnt_long_sum),\n",
        "                    \"customers_cnt_total_sum\": round(customers_cnt_total_sum)\n",
        "                    })\n",
        "    except:\n",
        "      return jsonify({\"customers_cnt_loc_sum\": \"\", \n",
        "                    \"customers_cnt_work_sum\": \"\", \n",
        "                    \"customers_cnt_long_sum\": \"\",\n",
        "                    \"customers_cnt_total_sum\": \"\"\n",
        "                    })\n",
        "\n",
        "app.run()"
      ],
      "execution_count": null,
      "outputs": []
    }
  ]
}