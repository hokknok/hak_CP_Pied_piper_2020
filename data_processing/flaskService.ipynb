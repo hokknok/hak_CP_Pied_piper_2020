{
  "nbformat": 4,
  "nbformat_minor": 0,
  "metadata": {
    "colab": {
      "name": "flaskService.ipynb",
      "provenance": [],
      "collapsed_sections": []
    },
    "kernelspec": {
      "name": "python3",
      "display_name": "Python 3"
    }
  },
  "cells": [
    {
      "cell_type": "code",
      "metadata": {
        "id": "PEj4rF2CTYwm"
      },
      "source": [
        "#!pip install flask_ngrok\n",
        "import pickle\n",
        "from imblearn.over_sampling import SMOTE\n",
        "from flask_ngrok import run_with_ngrok\n",
        "from flask import Flask, jsonify\n",
        "import flask\n",
        "import pandas as pd"
      ],
      "execution_count": 13,
      "outputs": []
    },
    {
      "cell_type": "code",
      "metadata": {
        "id": "2RHRPDngbFuh"
      },
      "source": [
        "app = Flask(__name__)\n",
        "run_with_ngrok(app)\n",
        "@app.route(\"/\")\n",
        "def home():\n",
        "    points = []\n",
        "    \n",
        "    new_df = pd.read_csv(\"mini_address_with_coords.csv\")\n",
        "\n",
        "    with open('lat_model', 'rb') as f:\n",
        "      lat_model = pickle.load(f)\n",
        "\n",
        "    with open('lon_model', 'rb') as f:\n",
        "      lon_model = pickle.load(f)\n",
        "\n",
        "    for i in range(int(flask.request.args.get(\"points\"))):\n",
        "      lat = lat_model.predict(new_df.sample(1).drop(\"lat\", axis=1).to_numpy())[0]\n",
        "      lon = lon_model.predict(new_df.sample(1).drop(\"lon\", axis=1).to_numpy())[0]\n",
        "      points.append({\"lat\": lat, \"lon\": lon})\n",
        "\n",
        "    return jsonify(points)\n",
        "  \n",
        "app.run()"
      ],
      "execution_count": null,
      "outputs": []
    }
  ]
}