{
  "nbformat": 4,
  "nbformat_minor": 0,
  "metadata": {
    "colab": {
      "name": "flaskService.ipynb",
      "provenance": []
    },
    "kernelspec": {
      "name": "python3",
      "display_name": "Python 3"
    }
  },
  "cells": [
    {
      "cell_type": "code",
      "metadata": {
        "id": "PEj4rF2CTYwm"
      },
      "source": [
        "#!pip install flask_ngrok\n",
        "import pickle\n",
        "from imblearn.over_sampling import SMOTE\n",
        "from flask_ngrok import run_with_ngrok\n",
        "from flask import Flask, jsonify\n",
        "import flask\n",
        "import pandas as pd"
      ],
      "execution_count": 13,
      "outputs": []
    },
    {
      "cell_type": "code",
      "metadata": {
        "id": "aZ4wrNLDUhBf",
        "outputId": "7ee5c3b9-eb02-49ba-b12b-a1966dab5f0f",
        "colab": {
          "base_uri": "https://localhost:8080/",
          "height": 187
        }
      },
      "source": [
        "app = Flask(__name__)\n",
        "run_with_ngrok(app)\n",
        "@app.route(\"/\")\n",
        "def home():\n",
        "    points = []\n",
        "    \n",
        "    new_df = pd.read_csv(\"mini_address_with_coords.csv\")\n",
        "\n",
        "    with open('lat_model', 'rb') as f:\n",
        "      lat_model = pickle.load(f)\n",
        "\n",
        "    with open('lon_model', 'rb') as f:\n",
        "      lon_model = pickle.load(f)\n",
        "\n",
        "    for i in range(int(flask.request.args.get(\"points\"))):\n",
        "      lat = lat_model.predict(new_df.sample(1).drop(\"lat\", axis=1).to_numpy())[0]\n",
        "      lon = lon_model.predict(new_df.sample(1).drop(\"lon\", axis=1).to_numpy())[0]\n",
        "      points.append({\"lat\": lat, \"lon\": lon})\n",
        "\n",
        "    return jsonify(points)\n",
        "  \n",
        "app.run()"
      ],
      "execution_count": 25,
      "outputs": [
        {
          "output_type": "stream",
          "text": [
            " * Serving Flask app \"__main__\" (lazy loading)\n",
            " * Environment: production\n",
            "\u001b[31m   WARNING: This is a development server. Do not use it in a production deployment.\u001b[0m\n",
            "\u001b[2m   Use a production WSGI server instead.\u001b[0m\n",
            " * Debug mode: off\n"
          ],
          "name": "stdout"
        },
        {
          "output_type": "stream",
          "text": [
            " * Running on http://127.0.0.1:5000/ (Press CTRL+C to quit)\n"
          ],
          "name": "stderr"
        },
        {
          "output_type": "stream",
          "text": [
            " * Running on http://832ccc77acff.ngrok.io\n",
            " * Traffic stats available on http://127.0.0.1:4040\n"
          ],
          "name": "stdout"
        },
        {
          "output_type": "stream",
          "text": [
            "127.0.0.1 - - [18/Oct/2020 06:28:24] \"\u001b[37mGET /?points=4 HTTP/1.1\u001b[0m\" 200 -\n",
            "127.0.0.1 - - [18/Oct/2020 06:28:24] \"\u001b[33mGET /favicon.ico HTTP/1.1\u001b[0m\" 404 -\n"
          ],
          "name": "stderr"
        }
      ]
    }
  ]
}