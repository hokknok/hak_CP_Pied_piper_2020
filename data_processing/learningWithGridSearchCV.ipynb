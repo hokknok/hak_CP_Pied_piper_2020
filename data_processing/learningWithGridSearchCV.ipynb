{
  "nbformat": 4,
  "nbformat_minor": 0,
  "metadata": {
    "colab": {
      "name": "learningWithGridSearchCV.ipynb",
      "provenance": []
    },
    "kernelspec": {
      "name": "python3",
      "display_name": "Python 3"
    }
  },
  "cells": [
    {
      "cell_type": "code",
      "metadata": {
        "id": "cX9BV0IGODO8"
      },
      "source": [
        "import pandas as pd\n",
        "from sklearn.model_selection import train_test_split, GridSearchCV\n",
        "from sklearn import ensemble\n",
        "import pickle"
      ],
      "execution_count": 35,
      "outputs": []
    },
    {
      "cell_type": "code",
      "metadata": {
        "id": "_gO8N6ctOYSb"
      },
      "source": [
        "df = pd.read_csv(\"address_with_coords.csv\").dropna()\n",
        "df[\"lon\"] = df.point.apply(lambda x: float(x.split()[0]))\n",
        "df[\"lat\"] = df.point.apply(lambda x: float(x.split()[1]))\n",
        "df = df[(df[\"lat\"]>55.582238) & (df[\"lat\"]<55.905471) & (df[\"lon\"]>37.372692) & (df[\"lon\"]<37.851569)]\n",
        "df = df[[\"timestamp\", \"lon\", \"lat\"]]\n",
        "\n",
        "df[\"timestamp\"] = df.timestamp.apply(lambda x: pd.to_datetime(x, format=\"%Y-%m-%dT%H:%M:%S.%f\"))\n",
        "df[\"minute\"] = df.timestamp.apply(lambda x: x.minute)\n",
        "df[\"second\"] = df.timestamp.apply(lambda x: x.second)\n",
        "df[\"hour\"] = df.timestamp.apply(lambda x: x.hour)\n",
        "df[\"month\"] = df.timestamp.apply(lambda x: x.month)\n",
        "df[\"day\"] = df.timestamp.apply(lambda x: x.day)\n",
        "df[\"year\"] = df.timestamp.apply(lambda x: x.year)\n",
        "df[\"microsecond\"] = df.timestamp.apply(lambda x: x.microsecond)\n",
        "df = df.drop(\"timestamp\", axis=1)\n",
        "df.to_csv(\"mini_address_with_coords.csv\", index=False)"
      ],
      "execution_count": 3,
      "outputs": []
    },
    {
      "cell_type": "code",
      "metadata": {
        "id": "At6mZwEGPGMM",
        "outputId": "dc6785d2-2773-4aea-df97-3761a500316d",
        "colab": {
          "base_uri": "https://localhost:8080/",
          "height": 419
        }
      },
      "source": [
        "df_train = pd.read_csv(\"mini_address_with_coords.csv\")\n",
        "df_train = df_train.head(10000)\n",
        "df_train"
      ],
      "execution_count": 43,
      "outputs": [
        {
          "output_type": "execute_result",
          "data": {
            "text/html": [
              "<div>\n",
              "<style scoped>\n",
              "    .dataframe tbody tr th:only-of-type {\n",
              "        vertical-align: middle;\n",
              "    }\n",
              "\n",
              "    .dataframe tbody tr th {\n",
              "        vertical-align: top;\n",
              "    }\n",
              "\n",
              "    .dataframe thead th {\n",
              "        text-align: right;\n",
              "    }\n",
              "</style>\n",
              "<table border=\"1\" class=\"dataframe\">\n",
              "  <thead>\n",
              "    <tr style=\"text-align: right;\">\n",
              "      <th></th>\n",
              "      <th>lon</th>\n",
              "      <th>lat</th>\n",
              "      <th>minute</th>\n",
              "      <th>second</th>\n",
              "      <th>hour</th>\n",
              "      <th>month</th>\n",
              "      <th>day</th>\n",
              "      <th>year</th>\n",
              "      <th>microsecond</th>\n",
              "    </tr>\n",
              "  </thead>\n",
              "  <tbody>\n",
              "    <tr>\n",
              "      <th>0</th>\n",
              "      <td>37.619405</td>\n",
              "      <td>55.869647</td>\n",
              "      <td>38</td>\n",
              "      <td>1</td>\n",
              "      <td>12</td>\n",
              "      <td>5</td>\n",
              "      <td>10</td>\n",
              "      <td>2020</td>\n",
              "      <td>157000</td>\n",
              "    </tr>\n",
              "    <tr>\n",
              "      <th>1</th>\n",
              "      <td>37.664734</td>\n",
              "      <td>55.600359</td>\n",
              "      <td>28</td>\n",
              "      <td>14</td>\n",
              "      <td>13</td>\n",
              "      <td>5</td>\n",
              "      <td>22</td>\n",
              "      <td>2020</td>\n",
              "      <td>875000</td>\n",
              "    </tr>\n",
              "    <tr>\n",
              "      <th>2</th>\n",
              "      <td>37.664734</td>\n",
              "      <td>55.600359</td>\n",
              "      <td>6</td>\n",
              "      <td>11</td>\n",
              "      <td>16</td>\n",
              "      <td>5</td>\n",
              "      <td>14</td>\n",
              "      <td>2020</td>\n",
              "      <td>6000</td>\n",
              "    </tr>\n",
              "    <tr>\n",
              "      <th>3</th>\n",
              "      <td>37.524848</td>\n",
              "      <td>55.681757</td>\n",
              "      <td>27</td>\n",
              "      <td>42</td>\n",
              "      <td>17</td>\n",
              "      <td>5</td>\n",
              "      <td>14</td>\n",
              "      <td>2020</td>\n",
              "      <td>238000</td>\n",
              "    </tr>\n",
              "    <tr>\n",
              "      <th>4</th>\n",
              "      <td>37.603361</td>\n",
              "      <td>55.867556</td>\n",
              "      <td>31</td>\n",
              "      <td>57</td>\n",
              "      <td>12</td>\n",
              "      <td>5</td>\n",
              "      <td>16</td>\n",
              "      <td>2020</td>\n",
              "      <td>140000</td>\n",
              "    </tr>\n",
              "    <tr>\n",
              "      <th>...</th>\n",
              "      <td>...</td>\n",
              "      <td>...</td>\n",
              "      <td>...</td>\n",
              "      <td>...</td>\n",
              "      <td>...</td>\n",
              "      <td>...</td>\n",
              "      <td>...</td>\n",
              "      <td>...</td>\n",
              "      <td>...</td>\n",
              "    </tr>\n",
              "    <tr>\n",
              "      <th>9995</th>\n",
              "      <td>37.666019</td>\n",
              "      <td>55.893485</td>\n",
              "      <td>48</td>\n",
              "      <td>45</td>\n",
              "      <td>9</td>\n",
              "      <td>6</td>\n",
              "      <td>4</td>\n",
              "      <td>2020</td>\n",
              "      <td>224000</td>\n",
              "    </tr>\n",
              "    <tr>\n",
              "      <th>9996</th>\n",
              "      <td>37.665497</td>\n",
              "      <td>55.892668</td>\n",
              "      <td>50</td>\n",
              "      <td>31</td>\n",
              "      <td>9</td>\n",
              "      <td>6</td>\n",
              "      <td>23</td>\n",
              "      <td>2020</td>\n",
              "      <td>166000</td>\n",
              "    </tr>\n",
              "    <tr>\n",
              "      <th>9997</th>\n",
              "      <td>37.399327</td>\n",
              "      <td>55.710053</td>\n",
              "      <td>8</td>\n",
              "      <td>56</td>\n",
              "      <td>12</td>\n",
              "      <td>6</td>\n",
              "      <td>8</td>\n",
              "      <td>2020</td>\n",
              "      <td>973000</td>\n",
              "    </tr>\n",
              "    <tr>\n",
              "      <th>9998</th>\n",
              "      <td>37.449534</td>\n",
              "      <td>55.730015</td>\n",
              "      <td>36</td>\n",
              "      <td>29</td>\n",
              "      <td>11</td>\n",
              "      <td>6</td>\n",
              "      <td>11</td>\n",
              "      <td>2020</td>\n",
              "      <td>391000</td>\n",
              "    </tr>\n",
              "    <tr>\n",
              "      <th>9999</th>\n",
              "      <td>37.398347</td>\n",
              "      <td>55.651349</td>\n",
              "      <td>3</td>\n",
              "      <td>15</td>\n",
              "      <td>13</td>\n",
              "      <td>5</td>\n",
              "      <td>9</td>\n",
              "      <td>2020</td>\n",
              "      <td>331000</td>\n",
              "    </tr>\n",
              "  </tbody>\n",
              "</table>\n",
              "<p>10000 rows × 9 columns</p>\n",
              "</div>"
            ],
            "text/plain": [
              "            lon        lat  minute  second  hour  month  day  year  microsecond\n",
              "0     37.619405  55.869647      38       1    12      5   10  2020       157000\n",
              "1     37.664734  55.600359      28      14    13      5   22  2020       875000\n",
              "2     37.664734  55.600359       6      11    16      5   14  2020         6000\n",
              "3     37.524848  55.681757      27      42    17      5   14  2020       238000\n",
              "4     37.603361  55.867556      31      57    12      5   16  2020       140000\n",
              "...         ...        ...     ...     ...   ...    ...  ...   ...          ...\n",
              "9995  37.666019  55.893485      48      45     9      6    4  2020       224000\n",
              "9996  37.665497  55.892668      50      31     9      6   23  2020       166000\n",
              "9997  37.399327  55.710053       8      56    12      6    8  2020       973000\n",
              "9998  37.449534  55.730015      36      29    11      6   11  2020       391000\n",
              "9999  37.398347  55.651349       3      15    13      5    9  2020       331000\n",
              "\n",
              "[10000 rows x 9 columns]"
            ]
          },
          "metadata": {
            "tags": []
          },
          "execution_count": 43
        }
      ]
    },
    {
      "cell_type": "code",
      "metadata": {
        "id": "9EALAIngO6OF",
        "outputId": "fab84af1-da5e-4e99-ab16-900c4e912cd1",
        "colab": {
          "base_uri": "https://localhost:8080/",
          "height": 445
        }
      },
      "source": [
        "#lon model\n",
        "\n",
        "X = df_train.drop(\"lon\", axis=1)\n",
        "y = df_train[[\"lon\"]]\n",
        "\n",
        "X_train, X_test, y_train, y_test = train_test_split(\n",
        "        X, y, test_size=0.5, random_state=1)\n",
        "\n",
        "# Set the parameters by cross-validation\n",
        "tuned_parameters = {'n_estimators': [10], 'max_depth': [None, 2], 'min_samples_split': [2]}\n",
        "\n",
        "# clf = ensemble.RandomForestRegressor(n_estimators=500, n_jobs=1, verbose=1)\n",
        "clf = GridSearchCV(ensemble.RandomForestRegressor(), tuned_parameters, cv=2, n_jobs=-1, verbose=1)\n",
        "clf.fit(X_train, y_train)"
      ],
      "execution_count": 44,
      "outputs": [
        {
          "output_type": "stream",
          "text": [
            "Fitting 2 folds for each of 2 candidates, totalling 4 fits\n"
          ],
          "name": "stdout"
        },
        {
          "output_type": "stream",
          "text": [
            "[Parallel(n_jobs=-1)]: Using backend LokyBackend with 2 concurrent workers.\n",
            "[Parallel(n_jobs=-1)]: Done   4 out of   4 | elapsed:    0.3s finished\n",
            "/usr/local/lib/python3.6/dist-packages/sklearn/model_selection/_search.py:739: DataConversionWarning: A column-vector y was passed when a 1d array was expected. Please change the shape of y to (n_samples,), for example using ravel().\n",
            "  self.best_estimator_.fit(X, y, **fit_params)\n"
          ],
          "name": "stderr"
        },
        {
          "output_type": "execute_result",
          "data": {
            "text/plain": [
              "GridSearchCV(cv=2, error_score=nan,\n",
              "             estimator=RandomForestRegressor(bootstrap=True, ccp_alpha=0.0,\n",
              "                                             criterion='mse', max_depth=None,\n",
              "                                             max_features='auto',\n",
              "                                             max_leaf_nodes=None,\n",
              "                                             max_samples=None,\n",
              "                                             min_impurity_decrease=0.0,\n",
              "                                             min_impurity_split=None,\n",
              "                                             min_samples_leaf=1,\n",
              "                                             min_samples_split=2,\n",
              "                                             min_weight_fraction_leaf=0.0,\n",
              "                                             n_estimators=100, n_jobs=None,\n",
              "                                             oob_score=False, random_state=None,\n",
              "                                             verbose=0, warm_start=False),\n",
              "             iid='deprecated', n_jobs=-1,\n",
              "             param_grid={'max_depth': [None, 2], 'min_samples_split': [2],\n",
              "                         'n_estimators': [10]},\n",
              "             pre_dispatch='2*n_jobs', refit=True, return_train_score=False,\n",
              "             scoring=None, verbose=1)"
            ]
          },
          "metadata": {
            "tags": []
          },
          "execution_count": 44
        }
      ]
    },
    {
      "cell_type": "code",
      "metadata": {
        "id": "pFa7OehvPiof"
      },
      "source": [
        "lon_model = clf.best_estimator_"
      ],
      "execution_count": 45,
      "outputs": []
    },
    {
      "cell_type": "code",
      "metadata": {
        "id": "zpd-_oJtRD8C",
        "outputId": "d3f9c201-0ae0-4d75-fe42-e1d82524497f",
        "colab": {
          "base_uri": "https://localhost:8080/",
          "height": 445
        }
      },
      "source": [
        "#lat model\n",
        "\n",
        "X = df_train.drop(\"lat\", axis=1)\n",
        "y = df_train[[\"lat\"]]\n",
        "\n",
        "X_train, X_test, y_train, y_test = train_test_split(\n",
        "        X, y, test_size=0.5, random_state=1)\n",
        "\n",
        "# Set the parameters by cross-validation\n",
        "tuned_parameters = {'n_estimators': [10], 'max_depth': [None, 2], 'min_samples_split': [2]}\n",
        "\n",
        "# clf = ensemble.RandomForestRegressor(n_estimators=500, n_jobs=1, verbose=1)\n",
        "clf = GridSearchCV(ensemble.RandomForestRegressor(), tuned_parameters, cv=2, n_jobs=-1, verbose=1)\n",
        "clf.fit(X_train, y_train)"
      ],
      "execution_count": 46,
      "outputs": [
        {
          "output_type": "stream",
          "text": [
            "Fitting 2 folds for each of 2 candidates, totalling 4 fits\n"
          ],
          "name": "stdout"
        },
        {
          "output_type": "stream",
          "text": [
            "[Parallel(n_jobs=-1)]: Using backend LokyBackend with 2 concurrent workers.\n",
            "[Parallel(n_jobs=-1)]: Done   4 out of   4 | elapsed:    0.3s finished\n",
            "/usr/local/lib/python3.6/dist-packages/sklearn/model_selection/_search.py:739: DataConversionWarning: A column-vector y was passed when a 1d array was expected. Please change the shape of y to (n_samples,), for example using ravel().\n",
            "  self.best_estimator_.fit(X, y, **fit_params)\n"
          ],
          "name": "stderr"
        },
        {
          "output_type": "execute_result",
          "data": {
            "text/plain": [
              "GridSearchCV(cv=2, error_score=nan,\n",
              "             estimator=RandomForestRegressor(bootstrap=True, ccp_alpha=0.0,\n",
              "                                             criterion='mse', max_depth=None,\n",
              "                                             max_features='auto',\n",
              "                                             max_leaf_nodes=None,\n",
              "                                             max_samples=None,\n",
              "                                             min_impurity_decrease=0.0,\n",
              "                                             min_impurity_split=None,\n",
              "                                             min_samples_leaf=1,\n",
              "                                             min_samples_split=2,\n",
              "                                             min_weight_fraction_leaf=0.0,\n",
              "                                             n_estimators=100, n_jobs=None,\n",
              "                                             oob_score=False, random_state=None,\n",
              "                                             verbose=0, warm_start=False),\n",
              "             iid='deprecated', n_jobs=-1,\n",
              "             param_grid={'max_depth': [None, 2], 'min_samples_split': [2],\n",
              "                         'n_estimators': [10]},\n",
              "             pre_dispatch='2*n_jobs', refit=True, return_train_score=False,\n",
              "             scoring=None, verbose=1)"
            ]
          },
          "metadata": {
            "tags": []
          },
          "execution_count": 46
        }
      ]
    },
    {
      "cell_type": "code",
      "metadata": {
        "id": "vchh7VgXSQA_"
      },
      "source": [
        "lat_model = clf.best_estimator_"
      ],
      "execution_count": 47,
      "outputs": []
    },
    {
      "cell_type": "code",
      "metadata": {
        "id": "F4YG5e-7STh1"
      },
      "source": [
        "with open('lon_model', 'wb') as f:\n",
        "  pickle.dump(lon_model, open(\"lon_model\", 'wb'))\n",
        "\n",
        "with open('lat_model', 'wb') as f:\n",
        "  pickle.dump(lat_model, open(\"lat_model\", 'wb'))"
      ],
      "execution_count": 48,
      "outputs": []
    }
  ]
}