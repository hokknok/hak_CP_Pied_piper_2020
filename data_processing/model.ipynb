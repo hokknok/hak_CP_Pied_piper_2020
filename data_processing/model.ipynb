{
  "nbformat": 4,
  "nbformat_minor": 0,
  "metadata": {
    "colab": {
      "name": "model.ipynb",
      "provenance": []
    },
    "kernelspec": {
      "name": "python3",
      "display_name": "Python 3"
    }
  },
  "cells": [
    {
      "cell_type": "code",
      "metadata": {
        "id": "52Gr1TZhCzP3"
      },
      "source": [
        "import pandas as pd\n",
        "from flask_ngrok import run_with_ngrok\n",
        "from flask import Flask, jsonify\n",
        "import flask\n",
        "#!pip install flask_ngrok"
      ],
      "execution_count": 36,
      "outputs": []
    },
    {
      "cell_type": "code",
      "metadata": {
        "id": "4F2dP9-9C9Er"
      },
      "source": [
        "df = pd.read_csv(\"address_with_coords.csv\").dropna()\n",
        "df[\"lon\"] = df.point.apply(lambda x: float(x.split()[0]))\n",
        "df[\"lat\"] = df.point.apply(lambda x: float(x.split()[1]))\n",
        "df = df[(df[\"lat\"]>55.582238) & (df[\"lat\"]<55.905471) & (df[\"lon\"]>37.372692) & (df[\"lon\"]<37.851569)]\n",
        "df = df[[\"timestamp\", \"lon\", \"lat\"]]\n",
        "\n",
        "df[\"timestamp\"] = df.timestamp.apply(lambda x: pd.to_datetime(x, format=\"%Y-%m-%dT%H:%M:%S.%f\"))\n",
        "df[\"minute\"] = df.timestamp.apply(lambda x: x.minute)\n",
        "df[\"second\"] = df.timestamp.apply(lambda x: x.second)\n",
        "df[\"hour\"] = df.timestamp.apply(lambda x: x.hour)\n",
        "df[\"month\"] = df.timestamp.apply(lambda x: x.month)\n",
        "df[\"day\"] = df.timestamp.apply(lambda x: x.day)\n",
        "df[\"year\"] = df.timestamp.apply(lambda x: x.year)\n",
        "df[\"microsecond\"] = df.timestamp.apply(lambda x: x.microsecond)\n",
        "df = df.drop(\"timestamp\", axis=1)\n",
        "df.to_csv(\"mini_address_with_coords.csv\", index=False)"
      ],
      "execution_count": 95,
      "outputs": []
    },
    {
      "cell_type": "code",
      "metadata": {
        "id": "f5u3CXqaj4HN"
      },
      "source": [
        "app = Flask(__name__)\n",
        "run_with_ngrok(app)\n",
        "@app.route(\"/\")\n",
        "def home():\n",
        "    points = []\n",
        "    for i in range(int(flask.request.args.get(\"points\"))):\n",
        "      new_df = pd.read_csv(\"mini_address_with_coords.csv\").sample(30000)\n",
        "\n",
        "      #lat = new_df.lat.mean()\n",
        "      #lon = new_df.lon.mean()\n",
        "\n",
        "      regr = RandomForestRegressor(max_depth=2)\n",
        "      regr.fit(new_df.drop(\"lon\", axis=1), new_df[\"lon\"])\n",
        "      lon = regr.predict(pd.read_csv(\"mini_address_with_coords.csv\").sample(1).drop(\"lon\", axis=1).to_numpy())[0]\n",
        "\n",
        "      regr = RandomForestRegressor(max_depth=2)\n",
        "      regr.fit(new_df.drop(\"lat\", axis=1), new_df[\"lat\"])\n",
        "      lat = regr.predict(pd.read_csv(\"mini_address_with_coords.csv\").sample(1).drop(\"lat\", axis=1).to_numpy())[0]\n",
        "\n",
        "      points.append({\"lat\": lat, \"lon\": lon})\n",
        "\n",
        "    return jsonify(points)\n",
        "  \n",
        "app.run()"
      ],
      "execution_count": null,
      "outputs": []
    }
  ]
}