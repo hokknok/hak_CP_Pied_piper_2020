{
  "nbformat": 4,
  "nbformat_minor": 0,
  "metadata": {
    "colab": {
      "name": "find_closest.ipynb",
      "provenance": [],
      "collapsed_sections": []
    },
    "kernelspec": {
      "name": "python3",
      "display_name": "Python 3"
    }
  },
  "cells": [
    {
      "cell_type": "code",
      "metadata": {
        "id": "Af2w7MvBUch3"
      },
      "source": [
        "import pandas as pd\n",
        "import geopy.distance\n",
        "from math import sin, cos, sqrt, atan2, radians "
      ],
      "execution_count": null,
      "outputs": []
    },
    {
      "cell_type": "code",
      "metadata": {
        "id": "iDNPLLq5UqdF"
      },
      "source": [
        "df = pd.read_csv(\"address_with_coords.csv\").dropna()\n",
        "df[\"lon\"] = df.point.apply(lambda x: float(x.split()[0]))\n",
        "df[\"lat\"] = df.point.apply(lambda x: float(x.split()[1]))\n",
        "df = df[(df[\"lat\"]>55.582238) & (df[\"lat\"]<55.905471) & (df[\"lon\"]>37.372692) & (df[\"lon\"]<37.851569)]"
      ],
      "execution_count": null,
      "outputs": []
    },
    {
      "cell_type": "code",
      "metadata": {
        "id": "TlEQFjAuUuAM"
      },
      "source": [
        "#clear from non-Moscow objects\n",
        "\n",
        "#Moscow shape:\n",
        "#lat: 55.582238 .. 55.905471\n",
        "#lon: 37.372692 .. 37.851569\n",
        "#38 х 33 км\n",
        "\n",
        "fishnet_df = pd.read_csv(\"fishnet.csv\")\n",
        "fishnet_df.columns = [\"lon\", \"lat\", \"cell_id\", \"cell_area\", \"cell_area2\"]\n",
        "fishnet_df = fishnet_df[[\"lon\", \"lat\", \"cell_id\"]]\n",
        "fishnet_msc_df = fishnet_df[(fishnet_df[\"lat\"]>55.582238) & (fishnet_df[\"lat\"]<55.905471) & (fishnet_df[\"lon\"]>37.372692) & (fishnet_df[\"lon\"]<37.851569)]"
      ],
      "execution_count": null,
      "outputs": []
    },
    {
      "cell_type": "code",
      "metadata": {
        "id": "1POQd0hBUx07"
      },
      "source": [
        "#coords_1 = (52.2296756, 21.0122287)\n",
        "#coords_2 = (52.406374, 16.9251681)\n",
        "\n",
        "#print geopy.distance.vincenty(coords_1, coords_2).km\n",
        "\n",
        "\n",
        "def find_closest1(lon1, lat1):\n",
        "  dists = []\n",
        "\n",
        "  for row in fishnet_msc_df.iterrows():\n",
        "    coords_1 = (row[1].lat, row[1].lon)\n",
        "    coords_2 = (lat1, lon1)\n",
        "    dists.append(geopy.distance.vincenty(coords_1, coords_2).km)\n",
        "  return fishnet_msc_df.cell_id.tolist()[dists.index(min(dists))]\n",
        "\n",
        "\n",
        "def find_closest2(lon1, lat1):\n",
        "  dists = []\n",
        "  R = 6373.0\n",
        "  lat2 = radians(lat1)\n",
        "  lon2 = radians(lon1)\n",
        "  \n",
        "  for row in fishnet_msc_df.iterrows():\n",
        "\n",
        "    lat1 = radians(row[1].lat)\n",
        "    lon1 = radians(row[1].lon)\n",
        " \n",
        "    dlon = lon2 - lon1\n",
        "    dlat = lat2 - lat1\n",
        "\n",
        "    a = sin(dlat / 2)**2 + cos(lat1) * cos(lat2) * sin(dlon / 2)**2\n",
        "    c = 2 * atan2(sqrt(a), sqrt(1 - a))\n",
        "\n",
        "    distance = R * c\n",
        "    dists.append(distance)\n",
        "  \n",
        "  return fishnet_msc_df.cell_id.tolist()[dists.index(min(dists))]"
      ],
      "execution_count": null,
      "outputs": []
    },
    {
      "cell_type": "code",
      "metadata": {
        "id": "xPnFZQmlVnC1"
      },
      "source": [
        "ids_ = []\n",
        "for row in df.iterrows():\n",
        "  point = row[1].point\n",
        "  lon = float(point.split()[0])\n",
        "  lat = float(point.split()[1])\n",
        "\n",
        "  id_ = find_closest1(lon, lat)\n",
        "  ids_.append(id_)"
      ],
      "execution_count": null,
      "outputs": []
    }
  ]
}