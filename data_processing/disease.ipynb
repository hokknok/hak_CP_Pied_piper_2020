{
  "nbformat": 4,
  "nbformat_minor": 0,
  "metadata": {
    "colab": {
      "name": "disease.ipynb",
      "provenance": [],
      "collapsed_sections": []
    },
    "kernelspec": {
      "name": "python3",
      "display_name": "Python 3"
    }
  },
  "cells": [
    {
      "cell_type": "code",
      "metadata": {
        "id": "K4cRFLBKSrqA"
      },
      "source": [
        "import pandas as pd\n",
        "import xlrd\n",
        "import requests\n",
        "import json"
      ],
      "execution_count": null,
      "outputs": []
    },
    {
      "cell_type": "code",
      "metadata": {
        "id": "OmhwhDdkSxef"
      },
      "source": [
        "\"\"\"\n",
        "wb = xlrd.open_workbook(\"disease.xlsx\")\n",
        "sh1 = wb.sheet_by_index(0)\n",
        "\n",
        "adresses = []\n",
        "timestamps = []\n",
        "\n",
        "for rownum in range(sh1.nrows-1):\n",
        "    values_ = sh1.row_values(rownum+1)\n",
        "    address_ = values_[1]\n",
        "    timestamp_ = values_[0]\n",
        "    adresses.append(address_)\n",
        "    timestamps.append(timestamp_)\n",
        "\"\"\""
      ],
      "execution_count": null,
      "outputs": []
    },
    {
      "cell_type": "code",
      "metadata": {
        "id": "NpN_sLptSun8"
      },
      "source": [
        "#df = pd.DataFrame({\"timestamp\": timestamps, \"address\": adresses})\n",
        "df = pd.read_csv(\"address_with_coords.csv\")"
      ],
      "execution_count": null,
      "outputs": []
    },
    {
      "cell_type": "code",
      "metadata": {
        "id": "JnNOHzORS2fF"
      },
      "source": [
        "df_full = df.dropna()\n",
        "df_empty = df[df.isna().any(axis=1)]\n",
        "df_empty = df_empty.drop(\"point\", axis=1)"
      ],
      "execution_count": null,
      "outputs": []
    },
    {
      "cell_type": "code",
      "metadata": {
        "id": "SYNxQsByS8jQ"
      },
      "source": [
        "unique_addrs = df_empty.address.unique().tolist()\n",
        "\n",
        "url= \"https://geocode-maps.yandex.ru/1.x/?apikey=\"\n",
        "api_key_ = \"\"\n",
        "\n",
        "for addrs_ in unique_addrs:\n",
        "  #print(addrs_)\n",
        "\n",
        "  r = requests.get(url+api_key_+\"&format=json&geocode=\"+addrs_)\n",
        "  json_ = json.loads(r.content)\n",
        "  try:\n",
        "    points.append(json_[\"response\"][\"GeoObjectCollection\"][\"featureMember\"][0][\"GeoObject\"][\"Point\"][\"pos\"])\n",
        "  except:\n",
        "    points.append(np.NaN)"
      ],
      "execution_count": null,
      "outputs": []
    },
    {
      "cell_type": "code",
      "metadata": {
        "id": "Km-UpnKHTLzv"
      },
      "source": [
        "new_df = pd.DataFrame({\"address\": unique_addrs[:15000], \"point\": points})\n",
        "df_empty = df_empty.merge(new_df, how=\"left\", left_on=\"address\", right_on=\"address\")\n",
        "pd.concat([df_full, df_empty]).to_csv(\"address_with_coords.csv\", index=False)"
      ],
      "execution_count": null,
      "outputs": []
    }
  ]
}